{
 "cells": [
  {
   "cell_type": "code",
   "execution_count": 1,
   "metadata": {},
   "outputs": [
    {
     "name": "stdout",
     "output_type": "stream",
     "text": [
      "[2023-03-12 11:57:37,825] ml_logger {2072656909.py:33} INFO - ### Init. Logger ml_logger ###\n"
     ]
    }
   ],
   "source": [
    "# 作者：YAOJ\n",
    "# 链接：https://www.zhihu.com/question/308665219/answer/1699640781\n",
    "# 来源：知乎\n",
    "# 著作权归作者所有。商业转载请联系作者获得授权，非商业转载请注明出处。\n",
    "\n",
    "import logging\n",
    "import sys\n",
    "import datetime\n",
    "\n",
    "def init_logger(filename, logger_name):\n",
    "    '''\n",
    "    @brief:\n",
    "        initialize logger that redirect info to a file just in case we lost connection to the notebook\n",
    "    @params:\n",
    "        filename: to which file should we log all the info\n",
    "        logger_name: an alias to the logger\n",
    "    '''\n",
    "\n",
    "    # get current timestamp\n",
    "    timestamp = datetime.datetime.utcnow().strftime('%Y%m%d_%H-%M-%S')\n",
    "    \n",
    "    logging.basicConfig(\n",
    "        level=logging.INFO, \n",
    "        format='[%(asctime)s] %(name)s {%(filename)s:%(lineno)d} %(levelname)s - %(message)s',\n",
    "        handlers=[\n",
    "            logging.FileHandler(filename=filename),\n",
    "            logging.StreamHandler(sys.stdout)\n",
    "        ]\n",
    "    )\n",
    "\n",
    "    # Test\n",
    "    logger = logging.getLogger(logger_name)\n",
    "    logger.info('### Init. Logger {} ###'.format(logger_name))\n",
    "    return logger\n",
    "\n",
    "# Initialize\n",
    "my_logger = init_logger(\"./ml_notebook.log\", \"ml_logger\")"
   ]
  },
  {
   "cell_type": "code",
   "execution_count": 27,
   "metadata": {},
   "outputs": [],
   "source": [
    "%%capture out\n",
    "\n",
    "print(\"hello\")"
   ]
  },
  {
   "cell_type": "code",
   "execution_count": 28,
   "metadata": {},
   "outputs": [
    {
     "name": "stdout",
     "output_type": "stream",
     "text": [
      "[2023-03-12 13:14:18,321] ml_logger {2706598445.py:1} INFO - caputer: hello\n",
      "\n"
     ]
    }
   ],
   "source": [
    "my_logger.info(\"caputer: \" + out.stdout)"
   ]
  }
 ],
 "metadata": {
  "kernelspec": {
   "display_name": "base",
   "language": "python",
   "name": "python3"
  },
  "language_info": {
   "codemirror_mode": {
    "name": "ipython",
    "version": 3
   },
   "file_extension": ".py",
   "mimetype": "text/x-python",
   "name": "python",
   "nbconvert_exporter": "python",
   "pygments_lexer": "ipython3",
   "version": "3.9.12"
  },
  "orig_nbformat": 4
 },
 "nbformat": 4,
 "nbformat_minor": 2
}
