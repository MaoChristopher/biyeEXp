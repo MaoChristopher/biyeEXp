{
 "cells": [
  {
   "cell_type": "code",
   "execution_count": 6,
   "metadata": {},
   "outputs": [],
   "source": [
    "import pandas as pd\n",
    "import json\n",
    "\n",
    "\n",
    "tojson = open(\"./Restaurant-ACOS/dataJson/res_train.json\", \"w\")\n",
    "\n",
    "jsonlist = []\n",
    "\n",
    "with open('Restaurant-ACOS/rest16_quad_train.tsv', 'r') as f:\n",
    "    for line in f:\n",
    "        categories = []\n",
    "        lines = line.split('\\t')\n",
    "        sentence = lines[0]\n",
    "        categories = [entity.split(' ')[1] for entity in lines[1:]]\n",
    "        for category in categories:\n",
    "            \n",
    "            jsonlist.append({\"sentence\":sentence, \"category\":category})\n",
    "\n",
    "json.dump(jsonlist, tojson)\n",
    "tojson.close()\n",
    "\n"
   ]
  },
  {
   "cell_type": "code",
   "execution_count": 7,
   "metadata": {},
   "outputs": [],
   "source": [
    "data = pd.read_json(\"./Restaurant-ACOS/dataJson/res_train.json\")"
   ]
  }
 ],
 "metadata": {
  "kernelspec": {
   "display_name": "base",
   "language": "python",
   "name": "python3"
  },
  "language_info": {
   "codemirror_mode": {
    "name": "ipython",
    "version": 3
   },
   "file_extension": ".py",
   "mimetype": "text/x-python",
   "name": "python",
   "nbconvert_exporter": "python",
   "pygments_lexer": "ipython3",
   "version": "3.9.12"
  },
  "orig_nbformat": 4,
  "vscode": {
   "interpreter": {
    "hash": "45a2f32c2ce3c2344e861fc102959f68ab7ad7224e0f5ce99a6000a5e977dde9"
   }
  }
 },
 "nbformat": 4,
 "nbformat_minor": 2
}
